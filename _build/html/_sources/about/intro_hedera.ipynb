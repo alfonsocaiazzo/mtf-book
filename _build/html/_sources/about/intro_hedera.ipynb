{
 "cells": [
  {
   "cell_type": "markdown",
   "metadata": {
    "pycharm": {
     "name": "#%% md\n"
    }
   },
   "source": [
    "# The future of SDG Reporting\n",
    "\n",
    "\n",
    "\n",
    "## Why measure energy access?\n",
    "Defining the concept and measurement of **access to energy** is of great importance to governments and development agencies in order to design and adapt appropriate policies and programs to achieve the objective of energy supply for the entire population. The Sustainable Energy for All initiative (SE4All) launched by the Secretary General of the United Nations in 2011 aims to achieve universal access to modern energy services by 2030. SDG7, adopted in 2015 by all nations, explicitly aims to achieve access to affordable, safe, sustainable, and modern energy for all by 2030. According to the [Tracking SDG7: The Energy Progress Report (2019)](https://www.irena.org/publications/2019/May/Tracking-SDG7-The-Energy-Progress-Report-2019), worldwide, it is estimated that more than two billion people lack access to modern energy (grid connections and/or clean and safe fuel for cooking).\n",
    "\n",
    "\n",
    "## A multi-dimensional approach for assessing energy access: The Multi-Tier Framework\n",
    "\n",
    "To monitor progress towards the goal of energy access for all, the global and multi-donor technical assistance trust fund, the \n",
    "[Energy Sector Management Assistance Program](https://esmap.org) (ESMAP) of the World Bank and the International Energy Agency, leading a consortium of 23 international agencies, have established the Global Monitoring Framework of SE4All (Global Track Framework - GTF). It describes how to measure the baseline and progress towards the goals of the SE4All by regularly collecting energy data. ESMAP, in the framework of the SE4ALL initiative, and in consultation with multiple development partners, has developed the [Multi-tier Framework](https://www.esmap.org/node/5552) (MTF) to monitor and evaluate access to energy based on a multidimensional definition of both the concept of energy and the parameters for its measurement and monitoring.\n",
    "\n",
    "\n",
    "Traditionally, access to energy has been measured in a binary way: connected or not connected, cooking with biomass or not. However, these metrics overlook the quality of the connection, such as the capacity of other technologies—e.g. solar home systems or mini-grids—to provide energy. \n",
    "\n",
    "The need for a multidimensional assessment led to the development of the MTF, launched by The World Bank in 2015, with the explicit objective to become the new global measurement standard (in each country) for defining and monitoring the goals of electrification programs and highlighting the most important challenges to improving access to affordable, reliable, and safe energy. For this new methodology, ESMAP has created a detailed global survey for monitoring access to energy at various levels. The main objectives of the survey are:\n",
    "\n",
    "\n",
    "* To establish a global baseline of access to energy, according to the multidimensional definition of the MTF approach;\n",
    "* To transfer capacity to national statistical offices to track progress towards the goals of SE4ALL and the SDGs in the future;\n",
    "* To continue to improve the tools and capabilities to track progress towards the SE4ALL goal of universal access to modern energy services by the year 2030, based on MTF;\n",
    "* To provide reliable data on the energy sector that can meet the needs of multiple stakeholders, including government, policymakers, public service organizations, project developers, civil society organizations, development agencies, financial institutions, appliance manufacturers, international programs, and academia.\n",
    "\n",
    "\n",
    "Through detailed household surveys, the collected information allows institutions to answer the main questions related to energy access: how many lack adequate access to energy, how many need to improve access, and what measures will be taken. In this way, the development of the MTF and its methodology represent a milestone for the sector that should be the basis and language for all actors, not only for quantifying, but also for monitoring, the progress of access to energy for all.\n",
    "\n",
    "\n",
    "\n",
    "## The HEDERA Impact Toolkit (HIT)\n",
    "\n",
    "The MTF SDG7 survey is available in English as [PDF](https://datacatalog.worldbank.org/dataset/rwanda-multi-tier-framework-mtf-survey-2018), along with the data collected in several countries. [HEDERA](http://hedera.online) has optimized the energy survey and integrated it into a mobile app called HEDERA collect, in order to facilitate its implementation and drastically reduce data collection (by reducing training time, automatically validating data, optimizing the logic tree, etc.), especially in the rural context. \n",
    "[HEDERA collect](https://hedera.online/toolkit.html) is tailored to microfinance institutions and suitable for offline application. The mobile survey can be completed in less than 15 minutes, extracting all the information required to assess energy access at the household level. \n",
    "\n",
    "The MTF evaluation and tier-ranking are then performed automatically, so that users can visualize the detailed tier ranking of the surveyed clients with minimal effort in the [HEDERA](http://hedera.online) dashboard. Users can package and share their results with partners through automatically generated digital reports. [HEDERA](http://hedera.online) consequently allows institutions to make demand-driven decisions based on real information at the most detailed level.\n",
    "\n",
    "\n",
    "\n",
    "\n",
    "\n",
    "\n",
    "\n",
    "\n",
    "\n",
    "\n",
    "\n"
   ]
  },
  {
   "cell_type": "code",
   "execution_count": null,
   "metadata": {},
   "outputs": [],
   "source": []
  }
 ],
 "metadata": {
  "kernelspec": {
   "display_name": "Python 3",
   "language": "python",
   "name": "python3"
  },
  "language_info": {
   "codemirror_mode": {
    "name": "ipython",
    "version": 3
   },
   "file_extension": ".py",
   "mimetype": "text/x-python",
   "name": "python",
   "nbconvert_exporter": "python",
   "pygments_lexer": "ipython3",
   "version": "3.7.6"
  },
  "pycharm": {
   "stem_cell": {
    "cell_type": "raw",
    "metadata": {
     "collapsed": false
    },
    "source": []
   }
  }
 },
 "nbformat": 4,
 "nbformat_minor": 2
}
